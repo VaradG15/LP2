{
 "cells": [
  {
   "cell_type": "code",
   "execution_count": null,
   "id": "da579977-a078-4bd7-a1df-72162cff1156",
   "metadata": {},
   "outputs": [
    {
     "name": "stdout",
     "output_type": "stream",
     "text": [
      "Welcome to PICT electronics: \n",
      " What can I help you with? \n",
      " 1) Mobile \n",
      " 2) Refrigerator\n"
     ]
    },
    {
     "name": "stdin",
     "output_type": "stream",
     "text": [
      "You:  refrigerator\n"
     ]
    },
    {
     "name": "stdout",
     "output_type": "stream",
     "text": [
      "Bot: I do not have knowledge about this\n"
     ]
    },
    {
     "name": "stdin",
     "output_type": "stream",
     "text": [
      "Type the answer:  okay\n",
      "You:  hey\n"
     ]
    },
    {
     "name": "stdout",
     "output_type": "stream",
     "text": [
      "Bot: Hey there! How can I help you?\n"
     ]
    },
    {
     "name": "stdin",
     "output_type": "stream",
     "text": [
      "You:  how are you\n"
     ]
    },
    {
     "name": "stdout",
     "output_type": "stream",
     "text": [
      "Bot: I do not have knowledge about this\n"
     ]
    }
   ],
   "source": [
    "import json\n",
    "from difflib import get_close_matches\n",
    "from typing import Optional\n",
    "\n",
    "def load_knowledge_base(filepath: str) -> dict:\n",
    "    with open(filepath, 'r') as file:\n",
    "        data: dict = json.load(file)\n",
    "    return data\n",
    "\n",
    "def save_knowledge_base(filepath : str, data : dict):\n",
    "    with open(filepath, 'w') as file:\n",
    "        json.dump(data, file, indent = 2)\n",
    "\n",
    "\n",
    "def find_best_match(user_question: str, questions: list[str]) -> Optional[str]:\n",
    "    matches: list = get_close_matches(user_question, questions, n=1, cutoff=0.6)\n",
    "    if matches:\n",
    "        return matches[0]\n",
    "    else:\n",
    "        return None\n",
    "\n",
    "    \n",
    "def find_answer(question : str, knowledge_base : dict, context : str) -> str:\n",
    "    for q in knowledge_base[context]:\n",
    "        if q[\"question\"] == question:\n",
    "            return q[\"answer\"]\n",
    "        \n",
    "\n",
    "def chatbot():\n",
    "    knowledge_base: dict = load_knowledge_base('knowledge_base.json')\n",
    "    context = \"\"\n",
    "    while True:\n",
    "        question_list = []\n",
    "\n",
    "        user_input = input('You: ')\n",
    "        user_input = user_input.lower()\n",
    "\n",
    "        if \"hey\" in user_input:\n",
    "            print('Bot: Hey there! How can I help you?')\n",
    "            continue\n",
    "        elif \"hello\" in user_input:\n",
    "            print('Bot: Hey there! How can I help you?')\n",
    "            continue\n",
    "        elif(user_input == 'quit'):\n",
    "            break\n",
    "\n",
    "\n",
    "        if \"mobile\" in user_input:\n",
    "            context = \"mobile\"\n",
    "        elif \"refrigerator\" in user_input:\n",
    "            context = \"refrigerator\"\n",
    "\n",
    "        for q in knowledge_base[context]:\n",
    "            question_list.append(q[\"question\"])\n",
    "\n",
    "        question: str = find_best_match(user_input, question_list)\n",
    "\n",
    "        if(question == None):\n",
    "            print(\"Bot: I do not have knowledge about this\")\n",
    "            new_answer : str = input(\"Type the answer: \")\n",
    "            new_question_answer : dict = {\"question\" : user_input, \"answer\" : new_answer}\n",
    "            knowledge_base[context].append(new_question_answer)\n",
    "            save_knowledge_base('knowledge_base.json', knowledge_base)\n",
    "        else:\n",
    "            bot_answer: str = find_answer(question, knowledge_base, context)\n",
    "            print(f'Bot: {bot_answer}')\n",
    "            \n",
    "if __name__ == '__main__':\n",
    "    print(\"Welcome to PICT electronics: \\n What can I help you with? \\n 1) Mobile \\n 2) Refrigerator\")\n",
    "    chatbot()"
   ]
  },
  {
   "cell_type": "code",
   "execution_count": null,
   "id": "274e74da-df99-4069-acc9-90411800203c",
   "metadata": {},
   "outputs": [],
   "source": []
  }
 ],
 "metadata": {
  "kernelspec": {
   "display_name": "Python 3 (ipykernel)",
   "language": "python",
   "name": "python3"
  },
  "language_info": {
   "codemirror_mode": {
    "name": "ipython",
    "version": 3
   },
   "file_extension": ".py",
   "mimetype": "text/x-python",
   "name": "python",
   "nbconvert_exporter": "python",
   "pygments_lexer": "ipython3",
   "version": "3.9.7"
  }
 },
 "nbformat": 4,
 "nbformat_minor": 5
}
