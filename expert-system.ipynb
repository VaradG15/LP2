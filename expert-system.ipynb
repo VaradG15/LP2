{
 "cells": [
  {
   "cell_type": "code",
   "execution_count": 9,
   "id": "0f352688-aace-42bb-ab67-4f6b8dd4c675",
   "metadata": {},
   "outputs": [
    {
     "name": "stdout",
     "output_type": "stream",
     "text": [
      "John Doe's performance level: Exceptional\n"
     ]
    }
   ],
   "source": [
    "class Employee:\n",
    "    def __init__(self, name, productivity, quality, teamwork, communication, initiative, adaptability):\n",
    "        self.name = name\n",
    "        self.productivity = productivity\n",
    "        self.quality = quality\n",
    "        self.teamwork = teamwork\n",
    "        self.communication = communication\n",
    "        self.initiative = initiative\n",
    "        self.adaptability = adaptability\n",
    "\n",
    "class PerformanceEvaluator:\n",
    "    def __init__(self):\n",
    "        # Define criteria weights\n",
    "        self.criteria_weights = {\n",
    "            'productivity': 1,\n",
    "            'quality': 1,\n",
    "            'teamwork': 1,\n",
    "            'communication': 1,\n",
    "            'initiative': 1,\n",
    "            'adaptability': 1\n",
    "        }\n",
    "\n",
    "    def evaluate_performance(self, employee):\n",
    "        # Calculate overall score based on weighted sum of criteria scores\n",
    "        overall_score = 0\n",
    "        for criterion, weight in self.criteria_weights.items():\n",
    "            overall_score += getattr(employee, criterion) * weight\n",
    "\n",
    "        # Define performance levels based on overall score\n",
    "        average = overall_score/6\n",
    "        if average >= 85:\n",
    "            performance_level = \"Exceptional\"\n",
    "        elif average >= 70:\n",
    "            performance_level = \"High\"\n",
    "        elif average >= 55:\n",
    "            performance_level = \"Medium\"\n",
    "        else:\n",
    "            performance_level = \"Low\"\n",
    "\n",
    "        return performance_level\n",
    "\n",
    "# Example usage\n",
    "if __name__ == \"__main__\":\n",
    "    # Create an instance of PerformanceEvaluator\n",
    "    evaluator = PerformanceEvaluator()\n",
    "\n",
    "    # Create an example employee\n",
    "    employee1 = Employee(name=\"John Doe\", productivity=80, quality=90, teamwork=85, communication=85, initiative=95, adaptability=90)\n",
    "\n",
    "    # Evaluate performance of employee1\n",
    "    performance_level = evaluator.evaluate_performance(employee1)\n",
    "    print(f\"{employee1.name}'s performance level: {performance_level}\")\n"
   ]
  },
  {
   "cell_type": "code",
   "execution_count": null,
   "id": "f9a4e97c-1bf7-4e6d-8eb8-66a1ef36ca4c",
   "metadata": {},
   "outputs": [],
   "source": []
  }
 ],
 "metadata": {
  "kernelspec": {
   "display_name": "Python 3 (ipykernel)",
   "language": "python",
   "name": "python3"
  },
  "language_info": {
   "codemirror_mode": {
    "name": "ipython",
    "version": 3
   },
   "file_extension": ".py",
   "mimetype": "text/x-python",
   "name": "python",
   "nbconvert_exporter": "python",
   "pygments_lexer": "ipython3",
   "version": "3.9.7"
  }
 },
 "nbformat": 4,
 "nbformat_minor": 5
}
